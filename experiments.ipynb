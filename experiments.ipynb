{
 "cells": [
  {
   "cell_type": "code",
   "execution_count": 1,
   "metadata": {
    "id": "L1R1OIUWGRqZ"
   },
   "outputs": [],
   "source": [
    "%load_ext autoreload\n",
    "%autoreload 2"
   ]
  },
  {
   "cell_type": "code",
   "execution_count": 13,
   "metadata": {
    "id": "3dW-sHz2GRqd"
   },
   "outputs": [],
   "source": [
    "import copy\n",
    "\n",
    "import matplotlib.pyplot as plt\n",
    "from mpl_toolkits.mplot3d import Axes3D  \n",
    "import numpy as np\n",
    "import scipy.stats\n",
    "\n",
    "import torch\n",
    "from torch import nn\n",
    "from torch.nn import functional as F\n",
    "from torchvision import datasets, transforms, models\n",
    "import tqdm\n",
    "\n",
    "from ray import tune\n",
    "\n",
    "from stable_baselines.common.policies import MlpPolicy\n",
    "from stable_baselines import PPO2\n",
    "\n",
    "\n",
    "import autonomous_optimizer\n",
    "import benchmark"
   ]
  },
  {
   "cell_type": "markdown",
   "metadata": {},
   "source": [
    "First, we will examine performance on convex quadratic objective functions. We generate 90 convex quadratics in two dimensions with eigenvalues uniformly distributed between 1 and 10 as the train set."
   ]
  },
  {
   "cell_type": "code",
   "execution_count": 10,
   "metadata": {},
   "outputs": [],
   "source": [
    "iterations = 40\n",
    "dataset = [benchmark.convex_quadratic() for _ in range(90)]"
   ]
  },
  {
   "cell_type": "markdown",
   "metadata": {},
   "source": [
    "Now we define the RL environment and our model."
   ]
  },
  {
   "cell_type": "code",
   "execution_count": 14,
   "metadata": {},
   "outputs": [
    {
     "name": "stdout",
     "output_type": "stream",
     "text": [
      "WARNING:tensorflow:From /opt/anaconda3/envs/learn-to-optimize/lib/python3.7/site-packages/stable_baselines/common/policies.py:561: flatten (from tensorflow.python.layers.core) is deprecated and will be removed in a future version.\n",
      "Instructions for updating:\n",
      "Use keras.layers.flatten instead.\n",
      "WARNING:tensorflow:From /opt/anaconda3/envs/learn-to-optimize/lib/python3.7/site-packages/tensorflow/python/framework/op_def_library.py:263: colocate_with (from tensorflow.python.framework.ops) is deprecated and will be removed in a future version.\n",
      "Instructions for updating:\n",
      "Colocations handled automatically by placer.\n"
     ]
    },
    {
     "name": "stderr",
     "output_type": "stream",
     "text": [
      "/opt/anaconda3/envs/learn-to-optimize/lib/python3.7/site-packages/stable_baselines/common/env_checker.py:202: UserWarning: Your observation has an unconventional shape (neither an image, nor a 1D vector). We recommend you to flatten the observation to have only a 1D vector\n",
      "  warnings.warn(\"Your observation has an unconventional shape (neither an image, nor a 1D vector). \"\n",
      "/opt/anaconda3/envs/learn-to-optimize/lib/python3.7/site-packages/stable_baselines/common/env_checker.py:210: UserWarning: We recommend you to use a symmetric and normalized Box action space (range=[-1, 1]) cf https://stable-baselines.readthedocs.io/en/master/guide/rl_tips.html\n",
      "  warnings.warn(\"We recommend you to use a symmetric and normalized Box action space (range=[-1, 1]) \"\n"
     ]
    },
    {
     "name": "stdout",
     "output_type": "stream",
     "text": [
      "WARNING:tensorflow:From /opt/anaconda3/envs/learn-to-optimize/lib/python3.7/site-packages/tensorflow/python/ops/math_ops.py:3066: to_int32 (from tensorflow.python.ops.math_ops) is deprecated and will be removed in a future version.\n",
      "Instructions for updating:\n",
      "Use tf.cast instead.\n"
     ]
    }
   ],
   "source": [
    "env = autonomous_optimizer.Environment(dataset, iterations)\n",
    "policy = PPO2(MlpPolicy, env, n_steps=8, verbose=0, tensorboard_log='tb_logs')"
   ]
  },
  {
   "cell_type": "markdown",
   "metadata": {},
   "source": [
    "We will use tensorboard to get a sense of reward, loss, and other metrics as we train."
   ]
  },
  {
   "cell_type": "code",
   "execution_count": 15,
   "metadata": {},
   "outputs": [
    {
     "data": {
      "text/plain": [
       "Reusing TensorBoard on port 6006 (pid 18570), started 1:34:51 ago. (Use '!kill 18570' to kill it.)"
      ]
     },
     "metadata": {},
     "output_type": "display_data"
    },
    {
     "data": {
      "text/html": [
       "\n",
       "      <iframe id=\"tensorboard-frame-2056ea40390ad69e\" width=\"100%\" height=\"800\" frameborder=\"0\">\n",
       "      </iframe>\n",
       "      <script>\n",
       "        (function() {\n",
       "          const frame = document.getElementById(\"tensorboard-frame-2056ea40390ad69e\");\n",
       "          const url = new URL(\"/\", window.location);\n",
       "          url.port = 6006;\n",
       "          frame.src = url;\n",
       "        })();\n",
       "      </script>\n",
       "  "
      ],
      "text/plain": [
       "<IPython.core.display.HTML object>"
      ]
     },
     "metadata": {},
     "output_type": "display_data"
    }
   ],
   "source": [
    "%load_ext tensorboard\n",
    "%tensorboard --logdir tb_logs"
   ]
  },
  {
   "cell_type": "markdown",
   "metadata": {},
   "source": [
    "Train the algorithm on 20 passes over the dataset"
   ]
  },
  {
   "cell_type": "code",
   "execution_count": 16,
   "metadata": {},
   "outputs": [
    {
     "data": {
      "text/plain": [
       "<stable_baselines.ppo2.ppo2.PPO2 at 0x7fed2591dd50>"
      ]
     },
     "execution_count": 16,
     "metadata": {},
     "output_type": "execute_result"
    }
   ],
   "source": [
    "policy.learn(total_timesteps=20 * iterations * len(dataset))"
   ]
  },
  {
   "cell_type": "markdown",
   "metadata": {},
   "source": [
    "We will be comparing the RL optimizer to several common convex optimization algorithms. We use Bayesian optimization to find good hyperparameters for this class of problems. And to make this a fair comparison, we will run 20 passes over all problems in the dataset, just like the RL algorithm gets."
   ]
  },
  {
   "cell_type": "code",
   "execution_count": 25,
   "metadata": {},
   "outputs": [
    {
     "name": "stderr",
     "output_type": "stream",
     "text": [
      "  0%|          | 0/3 [00:00<?, ?it/s]2020-11-27 20:30:53,327\tINFO tune.py:439 -- Total run time: 17.29 seconds (17.22 seconds for the tuning loop).\n",
      " 33%|███▎      | 1/3 [00:17<00:34, 17.35s/it]2020-11-27 20:31:09,276\tINFO tune.py:439 -- Total run time: 15.89 seconds (15.80 seconds for the tuning loop).\n",
      " 67%|██████▋   | 2/3 [00:33<00:16, 16.93s/it]2020-11-27 20:31:27,542\tINFO tune.py:439 -- Total run time: 18.21 seconds (18.13 seconds for the tuning loop).\n",
      "100%|██████████| 3/3 [00:51<00:00, 17.19s/it]"
     ]
    },
    {
     "name": "stdout",
     "output_type": "stream",
     "text": [
      "Final hyperparam values:\n",
      "  sgd: {'lr': 0.3169881321274159}\n",
      "  momentum: {'nesterov': True, 'lr': 0.10905361907161754, 'momentum': 0.8178527304006111}\n",
      "  adam: {'lr': 0.21346669540892085}\n"
     ]
    },
    {
     "name": "stderr",
     "output_type": "stream",
     "text": [
      "\n"
     ]
    }
   ],
   "source": [
    "quadratic_tune = benchmark.tune_algos(\n",
    "    dataset,\n",
    "    iterations,\n",
    "    tune_iters=20,\n",
    "    hyperparam_space={\n",
    "        \"lr\": tune.loguniform(1e-5, 5e-1),\n",
    "        \"momentum\": tune.uniform(0.7, 1)\n",
    "    },\n",
    "    algos=[\"sgd\", \"momentum\", \"adam\"]\n",
    ")\n",
    "\n",
    "print('Final hyperparam values:')\n",
    "for algo, results in quadratic_tune.items():\n",
    "    print(f'  {algo}: {results[\"hyperparams\"]}')"
   ]
  },
  {
   "cell_type": "markdown",
   "metadata": {},
   "source": [
    "Now, let's compare their behavior on an example problem."
   ]
  },
  {
   "cell_type": "code",
   "execution_count": 20,
   "metadata": {
    "id": "yuISeTPPGRql"
   },
   "outputs": [
    {
     "name": "stdout",
     "output_type": "stream",
     "text": [
      "Objective function minimum: -0.01685558818280697\n"
     ]
    }
   ],
   "source": [
    "problem = benchmark.convex_quadratic()\n",
    "\n",
    "model0 = problem[\"model0\"]\n",
    "obj_function = problem[\"obj_function\"]\n",
    "optimal_x = problem[\"optimal_x\"]\n",
    "optimal_value = problem[\"optimal_val\"]\n",
    "A = problem[\"A\"]\n",
    "b = problem[\"b\"]\n",
    "    \n",
    "print(f'Objective function minimum: {optimal_value}')"
   ]
  },
  {
   "cell_type": "markdown",
   "metadata": {},
   "source": [
    "Run algos with our tuned hyperparams"
   ]
  },
  {
   "cell_type": "code",
   "execution_count": 22,
   "metadata": {},
   "outputs": [
    {
     "name": "stdout",
     "output_type": "stream",
     "text": [
      "SGD optimality gap: 0.9755277540534735\n",
      "Momentum optimality gap: 1.0356307029724121e-05\n",
      "Adam optimality gap: 532.8003028538078\n",
      "Autonomous Optimizer optimality gap: 0.1319620292633772\n"
     ]
    }
   ],
   "source": [
    "# SGD\n",
    "sgd_quadratic_vals, sgd_quadratic_traj = benchmark.run_optimizer(\n",
    "    torch.optim.SGD, problem, iterations, quadratic_tune['sgd']['hyperparams'])\n",
    "print(f'SGD optimality gap: {sgd_quadratic_vals.min() - optimal_value}')\n",
    "\n",
    "# Momentum\n",
    "momentum_quadratic_vals, momentum_quadratic_traj = benchmark.run_optimizer(\n",
    "    torch.optim.SGD, problem, iterations, quadratic_tune['momentum']['hyperparams'])\n",
    "print(f'Momentum optimality gap: {momentum_quadratic_vals.min() - optimal_value}')\n",
    "\n",
    "# Adam\n",
    "adam_quadratic_vals, adam_quadratic_traj = benchmark.run_optimizer(\n",
    "    torch.optim.Adam, problem, iterations, quadratic_tune['adam']['hyperparams'])\n",
    "print(f'Adam optimality gap: {adam_quadratic_vals.min() - optimal_value}')\n",
    "\n",
    "# Autonomous optimizer\n",
    "ao_quadratic_vals, ao_quadratic_traj = benchmark.run_optimizer(\n",
    "    autonomous_optimizer.AutonomousOptimizer, problem, iterations, {\"policy\": policy})\n",
    "print(f'Autonomous Optimizer optimality gap: {ao_quadratic_vals.min() - optimal_value}')"
   ]
  },
  {
   "cell_type": "markdown",
   "metadata": {},
   "source": [
    "Distance from optimal vs iteration"
   ]
  },
  {
   "cell_type": "code",
   "execution_count": 23,
   "metadata": {
    "colab": {
     "base_uri": "https://localhost:8080/",
     "height": 265
    },
    "id": "rxjLh1Y0GRqs",
    "outputId": "2239d027-1497-4b38-b17e-00cdd985b6a9"
   },
   "outputs": [
    {
     "data": {
      "image/png": "[encoded data removed]",
      "text/plain": [
       "<Figure size 900x600 with 1 Axes>"
      ]
     },
     "metadata": {
      "needs_background": "light"
     },
     "output_type": "display_data"
    }
   ],
   "source": [
    "plt.figure(figsize=(6, 4), dpi=150)\n",
    "\n",
    "plt.plot(sgd_quadratic_vals - optimal_value, label='SGD')\n",
    "plt.plot(momentum_quadratic_vals - optimal_value, label='Momentum')\n",
    "plt.plot(adam_quadratic_vals - optimal_value, label='Adam')\n",
    "plt.plot(ao_quadratic_vals - optimal_value, label='Autonomous Optimizer')\n",
    "\n",
    "plt.yscale('log')\n",
    "plt.legend()\n",
    "plt.show()"
   ]
  },
  {
   "cell_type": "markdown",
   "metadata": {},
   "source": [
    "Plotting trajectories on a 2-D slice of the parameter space"
   ]
  },
  {
   "cell_type": "code",
   "execution_count": 24,
   "metadata": {},
   "outputs": [
    {
     "ename": "IndexError",
     "evalue": "too many indices for array",
     "output_type": "error",
     "traceback": [
      "\u001b[0;31m---------------------------------------------------------------------------\u001b[0m",
      "\u001b[0;31mIndexError\u001b[0m                                Traceback (most recent call last)",
      "\u001b[0;32m<ipython-input-24-01ad61f6325e>\u001b[0m in \u001b[0;36m<module>\u001b[0;34m\u001b[0m\n\u001b[0;32m----> 1\u001b[0;31m \u001b[0mall_trajs\u001b[0m \u001b[0;34m=\u001b[0m \u001b[0mnp\u001b[0m\u001b[0;34m.\u001b[0m\u001b[0mconcatenate\u001b[0m\u001b[0;34m(\u001b[0m\u001b[0;34m[\u001b[0m\u001b[0msgd_quadratic_traj\u001b[0m\u001b[0;34m,\u001b[0m \u001b[0mmomentum_quadratic_traj\u001b[0m\u001b[0;34m,\u001b[0m \u001b[0madam_quadratic_traj\u001b[0m\u001b[0;34m,\u001b[0m \u001b[0mao_quadratic_traj\u001b[0m\u001b[0;34m]\u001b[0m\u001b[0;34m)\u001b[0m\u001b[0;34m[\u001b[0m\u001b[0;34m:\u001b[0m\u001b[0;34m,\u001b[0m \u001b[0;34m:\u001b[0m\u001b[0;36m2\u001b[0m\u001b[0;34m]\u001b[0m\u001b[0;34m\u001b[0m\u001b[0;34m\u001b[0m\u001b[0m\n\u001b[0m\u001b[1;32m      2\u001b[0m \u001b[0;34m\u001b[0m\u001b[0m\n\u001b[1;32m      3\u001b[0m \u001b[0mminimum\u001b[0m \u001b[0;34m=\u001b[0m \u001b[0mall_trajs\u001b[0m\u001b[0;34m.\u001b[0m\u001b[0mmin\u001b[0m\u001b[0;34m(\u001b[0m\u001b[0;34m)\u001b[0m \u001b[0;34m-\u001b[0m \u001b[0mnp\u001b[0m\u001b[0;34m.\u001b[0m\u001b[0mabs\u001b[0m\u001b[0;34m(\u001b[0m\u001b[0mall_trajs\u001b[0m\u001b[0;34m.\u001b[0m\u001b[0mmin\u001b[0m\u001b[0;34m(\u001b[0m\u001b[0;34m)\u001b[0m\u001b[0;34m)\u001b[0m \u001b[0;34m*\u001b[0m \u001b[0;36m0.2\u001b[0m\u001b[0;34m\u001b[0m\u001b[0;34m\u001b[0m\u001b[0m\n\u001b[1;32m      4\u001b[0m \u001b[0mmaximum\u001b[0m \u001b[0;34m=\u001b[0m \u001b[0mall_trajs\u001b[0m\u001b[0;34m.\u001b[0m\u001b[0mmax\u001b[0m\u001b[0;34m(\u001b[0m\u001b[0;34m)\u001b[0m \u001b[0;34m+\u001b[0m \u001b[0mnp\u001b[0m\u001b[0;34m.\u001b[0m\u001b[0mabs\u001b[0m\u001b[0;34m(\u001b[0m\u001b[0mall_trajs\u001b[0m\u001b[0;34m.\u001b[0m\u001b[0mmax\u001b[0m\u001b[0;34m(\u001b[0m\u001b[0;34m)\u001b[0m\u001b[0;34m)\u001b[0m \u001b[0;34m*\u001b[0m \u001b[0;36m0.2\u001b[0m\u001b[0;34m\u001b[0m\u001b[0;34m\u001b[0m\u001b[0m\n\u001b[1;32m      5\u001b[0m \u001b[0mX\u001b[0m \u001b[0;34m=\u001b[0m \u001b[0mnp\u001b[0m\u001b[0;34m.\u001b[0m\u001b[0mlinspace\u001b[0m\u001b[0;34m(\u001b[0m\u001b[0mminimum\u001b[0m\u001b[0;34m,\u001b[0m \u001b[0mmaximum\u001b[0m\u001b[0;34m)\u001b[0m\u001b[0;34m\u001b[0m\u001b[0;34m\u001b[0m\u001b[0m\n",
      "\u001b[0;31mIndexError\u001b[0m: too many indices for array"
     ]
    }
   ],
   "source": [
    "all_trajs = np.concatenate([sgd_quadratic_traj, momentum_quadratic_traj, adam_quadratic_traj, ao_quadratic_traj])[:, :2]\n",
    "\n",
    "minimum = all_trajs.min() - np.abs(all_trajs.min()) * 0.2\n",
    "maximum = all_trajs.max() + np.abs(all_trajs.max()) * 0.2\n",
    "X = np.linspace(minimum, maximum)\n",
    "Y = np.linspace(minimum, maximum)\n",
    "\n",
    "Z = np.empty((len(Y), len(X)))\n",
    "for i in range(len(X)):\n",
    "    for j in range(len(Y)):\n",
    "        x = torch.tensor(optimal_x.copy())\n",
    "        x[0] = X[i]\n",
    "        x[1] = Y[j]\n",
    "        Z[j, i] = obj_function(x)\n",
    "\n",
    "plt.figure(figsize=(10, 6), dpi=500)\n",
    "plt.contourf(X, Y, Z, 30, cmap='RdGy')\n",
    "plt.colorbar()\n",
    "\n",
    "plt.plot(sgd_quadratic_traj[:, 0], sgd_quadratic_traj[:, 1], label='SGD')\n",
    "plt.plot(momentum_quadratic_traj[:, 0], momentum_quadratic_traj[:, 1], label='Momentum')\n",
    "plt.plot(adam_quadratic_traj[:, 0], adam_quadratic_traj[:, 1], label='Adam')\n",
    "\n",
    "plt.plot(sgd_quadratic_traj[0, 0], sgd_quadratic_traj[0, 1], 'bo')\n",
    "plt.plot(optimal_x[0], optimal_x[1], marker=(5,1), color='red', markersize=12)\n",
    "plt.legend()\n",
    "\n",
    "plt.plot()\n",
    "plt.show()"
   ]
  },
  {
   "cell_type": "code",
   "execution_count": null,
   "metadata": {},
   "outputs": [],
   "source": []
  }
 ],
 "metadata": {
  "accelerator": "GPU",
  "colab": {
   "name": "experiments.ipynb",
   "provenance": []
  },
  "kernelspec": {
   "display_name": "Python 3",
   "language": "python",
   "name": "python3"
  },
  "language_info": {
   "codemirror_mode": {
    "name": "ipython",
    "version": 3
   },
   "file_extension": ".py",
   "mimetype": "text/x-python",
   "name": "python",
   "nbconvert_exporter": "python",
   "pygments_lexer": "ipython3",
   "version": "3.7.9"
  }
 },
 "nbformat": 4,
 "nbformat_minor": 4
}
